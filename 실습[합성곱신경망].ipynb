{
  "nbformat": 4,
  "nbformat_minor": 0,
  "metadata": {
    "colab": {
      "provenance": [],
      "mount_file_id": "1RyG3j_Dr0p-pwv6-PCRWZ4uACNKooDsr",
      "authorship_tag": "ABX9TyMyXXIdxpuikix6SAwQ6EwD",
      "include_colab_link": true
    },
    "kernelspec": {
      "name": "python3",
      "display_name": "Python 3"
    },
    "language_info": {
      "name": "python"
    }
  },
  "cells": [
    {
      "cell_type": "markdown",
      "metadata": {
        "id": "view-in-github",
        "colab_type": "text"
      },
      "source": [
        "<a href=\"https://colab.research.google.com/github/IMJIAN/IMJIAN/blob/main/%EC%8B%A4%EC%8A%B5%5B%ED%95%A9%EC%84%B1%EA%B3%B1%EC%8B%A0%EA%B2%BD%EB%A7%9D%5D.ipynb\" target=\"_parent\"><img src=\"https://colab.research.google.com/assets/colab-badge.svg\" alt=\"Open In Colab\"/></a>"
      ]
    },
    {
      "cell_type": "code",
      "execution_count": 1,
      "metadata": {
        "id": "iq41yaoOaZqO"
      },
      "outputs": [],
      "source": [
        "#Load packages\n",
        "import torch\n",
        "import torch.nn as nn\n",
        "import torchvision.datasets as dset\n",
        "import torchvision.transforms as transforms\n",
        "from torch.utils.data import DataLoader\n",
        "import matplotlib.pyplot as plt\n",
        "%matplotlib inline"
      ]
    },
    {
      "cell_type": "code",
      "source": [
        "#MNIST train, test dataset 가져오기\n",
        "# \"\": 현재 폴더에 MNIST 있음\n",
        "mnist_train=dset.MNIST(\"\", train=True,transform=transforms.ToTensor(),\n",
        "                       target_transform=None, download=True)\n",
        "mnist_test=dset.MNIST(\"\",train=False,transform=transforms.ToTensor(),\n",
        "                      target_transform=None, download=True)"
      ],
      "metadata": {
        "colab": {
          "base_uri": "https://localhost:8080/"
        },
        "id": "__eA9EwKa5-z",
        "outputId": "a34ffec8-cb74-4b96-9167-8837f12f60fd"
      },
      "execution_count": 2,
      "outputs": [
        {
          "output_type": "stream",
          "name": "stdout",
          "text": [
            "Downloading http://yann.lecun.com/exdb/mnist/train-images-idx3-ubyte.gz\n",
            "Failed to download (trying next):\n",
            "HTTP Error 403: Forbidden\n",
            "\n",
            "Downloading https://ossci-datasets.s3.amazonaws.com/mnist/train-images-idx3-ubyte.gz\n",
            "Downloading https://ossci-datasets.s3.amazonaws.com/mnist/train-images-idx3-ubyte.gz to MNIST/raw/train-images-idx3-ubyte.gz\n"
          ]
        },
        {
          "output_type": "stream",
          "name": "stderr",
          "text": [
            "100%|██████████| 9912422/9912422 [00:00<00:00, 12649732.46it/s]\n"
          ]
        },
        {
          "output_type": "stream",
          "name": "stdout",
          "text": [
            "Extracting MNIST/raw/train-images-idx3-ubyte.gz to MNIST/raw\n",
            "\n",
            "Downloading http://yann.lecun.com/exdb/mnist/train-labels-idx1-ubyte.gz\n",
            "Failed to download (trying next):\n",
            "HTTP Error 403: Forbidden\n",
            "\n",
            "Downloading https://ossci-datasets.s3.amazonaws.com/mnist/train-labels-idx1-ubyte.gz\n",
            "Downloading https://ossci-datasets.s3.amazonaws.com/mnist/train-labels-idx1-ubyte.gz to MNIST/raw/train-labels-idx1-ubyte.gz\n"
          ]
        },
        {
          "output_type": "stream",
          "name": "stderr",
          "text": [
            "100%|██████████| 28881/28881 [00:00<00:00, 345930.99it/s]\n"
          ]
        },
        {
          "output_type": "stream",
          "name": "stdout",
          "text": [
            "Extracting MNIST/raw/train-labels-idx1-ubyte.gz to MNIST/raw\n",
            "\n",
            "Downloading http://yann.lecun.com/exdb/mnist/t10k-images-idx3-ubyte.gz\n",
            "Failed to download (trying next):\n",
            "HTTP Error 403: Forbidden\n",
            "\n",
            "Downloading https://ossci-datasets.s3.amazonaws.com/mnist/t10k-images-idx3-ubyte.gz\n",
            "Downloading https://ossci-datasets.s3.amazonaws.com/mnist/t10k-images-idx3-ubyte.gz to MNIST/raw/t10k-images-idx3-ubyte.gz\n"
          ]
        },
        {
          "output_type": "stream",
          "name": "stderr",
          "text": [
            "100%|██████████| 1648877/1648877 [00:00<00:00, 2744459.07it/s]\n"
          ]
        },
        {
          "output_type": "stream",
          "name": "stdout",
          "text": [
            "Extracting MNIST/raw/t10k-images-idx3-ubyte.gz to MNIST/raw\n",
            "\n",
            "Downloading http://yann.lecun.com/exdb/mnist/t10k-labels-idx1-ubyte.gz\n",
            "Failed to download (trying next):\n",
            "HTTP Error 403: Forbidden\n",
            "\n",
            "Downloading https://ossci-datasets.s3.amazonaws.com/mnist/t10k-labels-idx1-ubyte.gz\n",
            "Downloading https://ossci-datasets.s3.amazonaws.com/mnist/t10k-labels-idx1-ubyte.gz to MNIST/raw/t10k-labels-idx1-ubyte.gz\n"
          ]
        },
        {
          "output_type": "stream",
          "name": "stderr",
          "text": [
            "100%|██████████| 4542/4542 [00:00<00:00, 2501710.93it/s]"
          ]
        },
        {
          "output_type": "stream",
          "name": "stdout",
          "text": [
            "Extracting MNIST/raw/t10k-labels-idx1-ubyte.gz to MNIST/raw\n",
            "\n"
          ]
        },
        {
          "output_type": "stream",
          "name": "stderr",
          "text": [
            "\n"
          ]
        }
      ]
    },
    {
      "cell_type": "code",
      "source": [
        "#대략적인 데이터 형태\n",
        "print (\"mnist_train 길이:\", len(mnist_train))\n",
        "print (\"mnist_test 길이:\", len(mnist_test))\n",
        "\n",
        "#데이터 하나 형태\n",
        "image, label = mnist_train.__getitem__(0) #0번째 데이터\n",
        "print (\"image data 형태:\", image.size())\n",
        "print (\"label:\", label)\n",
        "\n",
        "#그리기\n",
        "img = image.numpy() #image 타입을 numpy로 변환 (1,28,28)\n",
        "plt.title(\"label: %d\" %label)\n",
        "plt.imshow(img[0], cmap='gray')\n",
        "plt.show()"
      ],
      "metadata": {
        "colab": {
          "base_uri": "https://localhost:8080/",
          "height": 525
        },
        "id": "xSWqPGvSboe5",
        "outputId": "10f75b50-9c13-495b-9dae-028f57dd49cb"
      },
      "execution_count": 3,
      "outputs": [
        {
          "output_type": "stream",
          "name": "stdout",
          "text": [
            "mnist_train 길이: 60000\n",
            "mnist_test 길이: 10000\n",
            "image data 형태: torch.Size([1, 28, 28])\n",
            "label: 5\n"
          ]
        },
        {
          "output_type": "display_data",
          "data": {
            "text/plain": [
              "<Figure size 640x480 with 1 Axes>"
            ],
            "image/png": "[encoded data removed]"
          },
          "metadata": {}
        }
      ]
    },
    {
      "cell_type": "code",
      "source": [
        "#MNIST data 띄워보기\n",
        "print (mnist_train[0][1]) #label\n",
        "print (mnist_train[0][0].size()) #image\n",
        "\n",
        "for i in range(3):\n",
        "    img=mnist_train[i][0].numpy()\n",
        "    print(mnist_train[i][1])\n",
        "    plt.imshow(img[0],cmap='gray')\n",
        "    plt.show()"
      ],
      "metadata": {
        "colab": {
          "base_uri": "https://localhost:8080/",
          "height": 1000
        },
        "id": "vzHgz8WsclCR",
        "outputId": "0ef6ba99-2ade-492b-9749-fa9fd592f4dd"
      },
      "execution_count": 4,
      "outputs": [
        {
          "output_type": "stream",
          "name": "stdout",
          "text": [
            "5\n",
            "torch.Size([1, 28, 28])\n",
            "5\n"
          ]
        },
        {
          "output_type": "display_data",
          "data": {
            "text/plain": [
              "<Figure size 640x480 with 1 Axes>"
            ],
            "image/png": "[encoded data removed]"
          },
          "metadata": {}
        },
        {
          "output_type": "stream",
          "name": "stdout",
          "text": [
            "0\n"
          ]
        },
        {
          "output_type": "display_data",
          "data": {
            "text/plain": [
              "<Figure size 640x480 with 1 Axes>"
            ],
            "image/png": "[encoded data removed]"
          },
          "metadata": {}
        },
        {
          "output_type": "stream",
          "name": "stdout",
          "text": [
            "4\n"
          ]
        },
        {
          "output_type": "display_data",
          "data": {
            "text/plain": [
              "<Figure size 640x480 with 1 Axes>"
            ],
            "image/png": "[encoded data removed]"
          },
          "metadata": {}
        }
      ]
    },
    {
      "cell_type": "code",
      "source": [
        "#convolution 하나 씌워보기\n",
        "#mnist 의 첫 번째 이미지, 라벨 가져오기\n",
        "image, label = mnist_train[0]\n",
        "#view: tensor 의 사이즈 조절 -1: 해당 차원 차원 확장시켜라\n",
        "#[1,28,28]->[1,1,28,28]\n",
        "image=image.view(-1, image.size()[0], image.size()[1], image.size()[2])\n",
        "print(image.size())\n",
        "\n",
        "print(label)\n",
        "\n",
        "#convolutional filter 정의\n",
        "conv_layer=nn.Conv2d(in_channels=1,out_channels=3,kernel_size=3,padding=1)\n",
        "#image 에 filter 적용\n",
        "output=conv_layer(image)\n",
        "print(output.size())\n",
        "\n",
        "for i in range(3):\n",
        "    plt.imshow(output[0,1,:,:].data.numpy(), cmap='gray')\n",
        "    plt.show()"
      ],
      "metadata": {
        "colab": {
          "base_uri": "https://localhost:8080/",
          "height": 1000
        },
        "id": "qR-fAMuTeq7U",
        "outputId": "7076af40-9e86-4826-b4f9-f33bdd2519c9"
      },
      "execution_count": 6,
      "outputs": [
        {
          "output_type": "stream",
          "name": "stdout",
          "text": [
            "torch.Size([1, 1, 28, 28])\n",
            "5\n",
            "torch.Size([1, 3, 28, 28])\n"
          ]
        },
        {
          "output_type": "display_data",
          "data": {
            "text/plain": [
              "<Figure size 640x480 with 1 Axes>"
            ],
            "image/png": "[encoded data removed]"
          },
          "metadata": {}
        },
        {
          "output_type": "display_data",
          "data": {
            "text/plain": [
              "<Figure size 640x480 with 1 Axes>"
            ],
            "image/png": "[encoded data removed]"
          },
          "metadata": {}
        },
        {
          "output_type": "display_data",
          "data": {
            "text/plain": [
              "<Figure size 640x480 with 1 Axes>"
            ],
            "image/png": "[encoded data removed]"
          },
          "metadata": {}
        }
      ]
    },
    {
      "cell_type": "code",
      "source": [
        "#CNN 만들기\n",
        "#train,test data 가져오기\n",
        "\n",
        "import numpy as np\n",
        "import torch.optim as optim\n",
        "\n",
        "batch_size = 16\n",
        "learning_rate = 0.0002\n",
        "num_epoch = 10 #1000\n",
        "\n",
        "#후에 학습시킬 때 batch_size 단위로 학습시켜나감\n",
        "train_loader = torch.utils.data.DataLoader(list(mnist_train)[:batch_size*100],\n",
        "                                           batch_size=batch_size, shuffle=True,\n",
        "                                           num_workers=2,drop_last=True) #batch_size 만큼 나눌 때 나머지는 버려라\n",
        "test_loader = torch.utils.data.DataLoader((mnist_test), batch_size=batch_size,\n",
        "                                          shuffle=False, num_workers=2,drop_last=True)"
      ],
      "metadata": {
        "id": "cM4aO3BRgS7U"
      },
      "execution_count": 7,
      "outputs": []
    },
    {
      "cell_type": "code",
      "source": [
        "#CNN 클래스 만들기(모델 만들기)\n",
        "\n",
        "class CNN(nn.Module): #nn.Module 상속받음\n",
        "    def __init__(self):\n",
        "        super(CNN, self).__init__() #28x28\n",
        "        self.layer=nn.Sequential(\n",
        "            nn.Conv2d(1, 16, 5, padding=2),\n",
        "            nn.ReLU(),\n",
        "\n",
        "            nn.Conv2d(16,32,5,padding=2), #28x28\n",
        "            nn.ReLU(),\n",
        "            nn.MaxPool2d(2,2), #28x28 -> 14x14\n",
        "\n",
        "            nn.Conv2d(32, 64, 5, padding=2), #14x14\n",
        "            nn.ReLU(),\n",
        "            nn.MaxPool2d(2,2)#14x14 -> 7x7\n",
        "        )\n",
        "        self.fc_layer=nn.Sequential(\n",
        "            nn.Linear(64*7*7, 100),\n",
        "            nn.ReLU(),\n",
        "            nn.Linear(100, 10)\n",
        "        )\n",
        "    def forward(self,x):\n",
        "        out = self.layer(x)\n",
        "        out = out.view(batch_size, -1)\n",
        "        out = self.fc_layer(out)\n",
        "        return out\n",
        "\n",
        "model = CNN() #.cuda()\n",
        "\n",
        "#파라미터 체크하기\n",
        "for parameter in model.parameters():\n",
        "    #print(parameter)\n",
        "    print(parameter.shape)"
      ],
      "metadata": {
        "colab": {
          "base_uri": "https://localhost:8080/"
        },
        "id": "HJkY33gViKX-",
        "outputId": "e7de8262-c197-4403-a636-c28ba2ac8937"
      },
      "execution_count": 10,
      "outputs": [
        {
          "output_type": "stream",
          "name": "stdout",
          "text": [
            "torch.Size([16, 1, 5, 5])\n",
            "torch.Size([16])\n",
            "torch.Size([32, 16, 5, 5])\n",
            "torch.Size([32])\n",
            "torch.Size([64, 32, 5, 5])\n",
            "torch.Size([64])\n",
            "torch.Size([100, 3136])\n",
            "torch.Size([100])\n",
            "torch.Size([10, 100])\n",
            "torch.Size([10])\n"
          ]
        }
      ]
    },
    {
      "cell_type": "code",
      "source": [
        "# loss function, optimizer 선언\n",
        "loss_func = nn.CrossEntropyLoss()\n",
        "optimizer = torch.optim.Adam(model.parameters(), lr = learning_rate)"
      ],
      "metadata": {
        "id": "Sr-zWSH7jnv4"
      },
      "execution_count": 11,
      "outputs": []
    },
    {
      "cell_type": "code",
      "source": [
        "#optimization\n",
        "\n",
        "for i in range(num_epoch):\n",
        "    for j, [image, label] in enumerate(train_loader): #batch_size 만큼\n",
        "        x = image #.cuda()\n",
        "        y_ = label #.cuda()\n",
        "\n",
        "        optimizer.zero_grad() #optimizer 안에서 이전 gradient 들을 초기화\n",
        "        output=model.forward(x)\n",
        "        loss = loss_func(output,y_)\n",
        "        loss.backward() #gradient 계산\n",
        "        optimizer.step() #parameter 업데이트\n",
        "\n",
        "        if j%50==0:\n",
        "            print(loss, j, i)\n",
        ""
      ],
      "metadata": {
        "colab": {
          "base_uri": "https://localhost:8080/"
        },
        "id": "BnisuelwkT6N",
        "outputId": "10f241f3-5679-45a8-b59d-2715658e4957"
      },
      "execution_count": 12,
      "outputs": [
        {
          "output_type": "stream",
          "name": "stdout",
          "text": [
            "tensor(2.2896, grad_fn=<NllLossBackward0>) 0 0\n",
            "tensor(2.0202, grad_fn=<NllLossBackward0>) 50 0\n",
            "tensor(0.9315, grad_fn=<NllLossBackward0>) 0 1\n",
            "tensor(0.6456, grad_fn=<NllLossBackward0>) 50 1\n",
            "tensor(0.2216, grad_fn=<NllLossBackward0>) 0 2\n",
            "tensor(0.6415, grad_fn=<NllLossBackward0>) 50 2\n",
            "tensor(0.3396, grad_fn=<NllLossBackward0>) 0 3\n",
            "tensor(0.2011, grad_fn=<NllLossBackward0>) 50 3\n",
            "tensor(0.0629, grad_fn=<NllLossBackward0>) 0 4\n",
            "tensor(0.1785, grad_fn=<NllLossBackward0>) 50 4\n",
            "tensor(0.0447, grad_fn=<NllLossBackward0>) 0 5\n",
            "tensor(0.0798, grad_fn=<NllLossBackward0>) 50 5\n",
            "tensor(0.0246, grad_fn=<NllLossBackward0>) 0 6\n",
            "tensor(0.0891, grad_fn=<NllLossBackward0>) 50 6\n",
            "tensor(0.0281, grad_fn=<NllLossBackward0>) 0 7\n",
            "tensor(0.1122, grad_fn=<NllLossBackward0>) 50 7\n",
            "tensor(0.3076, grad_fn=<NllLossBackward0>) 0 8\n",
            "tensor(0.2985, grad_fn=<NllLossBackward0>) 50 8\n",
            "tensor(0.0338, grad_fn=<NllLossBackward0>) 0 9\n",
            "tensor(0.0067, grad_fn=<NllLossBackward0>) 50 9\n"
          ]
        }
      ]
    },
    {
      "cell_type": "code",
      "source": [
        "#모델 저장시키기\n",
        "torch.save(model, '/content/drive/MyDrive/model/mycnn_model_%d.pkl'%(num_epoch))"
      ],
      "metadata": {
        "id": "3nmGQh_Glc8g"
      },
      "execution_count": 15,
      "outputs": []
    },
    {
      "cell_type": "code",
      "source": [
        "try:\n",
        "    #미리 학습시킨 네트워크의 파라미터 집합 [피클]이라 발음함\n",
        "    model=torch.load('/content/drive/MyDrive/model/mycnn_model_10.pkl')\n",
        "    print(\"model restored\")\n",
        "except:\n",
        "    print(\"model not restored\")"
      ],
      "metadata": {
        "colab": {
          "base_uri": "https://localhost:8080/"
        },
        "id": "zB1OSfoJl3I3",
        "outputId": "02dacccd-a8d1-4d5d-b734-e37dd0efcbd7"
      },
      "execution_count": 16,
      "outputs": [
        {
          "output_type": "stream",
          "name": "stdout",
          "text": [
            "model restored\n"
          ]
        }
      ]
    },
    {
      "cell_type": "code",
      "source": [
        "def ComputeAccr(dloader, imodel):\n",
        "    correct = 0\n",
        "    total = 0\n",
        "\n",
        "    for j, [imgs, labels] in enumerate(dloader): #batch_size 만큼\n",
        "        img = imgs #.cuda() #x\n",
        "        label = labels #y\n",
        "        #label = Variable(labels).cuda()\n",
        "        #.cuda(): GPU 에 로드되기 위함. 만약 CPU로 설정되어 있다면 에러남\n",
        "\n",
        "        output = imodel.forward(img) #forward prop\n",
        "        _,output_index = torch.max(output, 1)\n",
        "\n",
        "        total += label.size(0)\n",
        "        correct += (output_index == label).sum().float()\n",
        "    print(\"Accuracy of Test Data: {}\".format(100*correct/total))"
      ],
      "metadata": {
        "id": "aYiDYfs6mmNG"
      },
      "execution_count": 21,
      "outputs": []
    },
    {
      "cell_type": "code",
      "source": [
        "ComputeAccr(test_loader, model)"
      ],
      "metadata": {
        "colab": {
          "base_uri": "https://localhost:8080/"
        },
        "id": "04pDejyKnuM5",
        "outputId": "30ce7397-dda5-448b-9179-13adc494d8d1"
      },
      "execution_count": 22,
      "outputs": [
        {
          "output_type": "stream",
          "name": "stdout",
          "text": [
            "Accuracy of Test Data: 95.0199966430664\n"
          ]
        }
      ]
    },
    {
      "cell_type": "code",
      "source": [],
      "metadata": {
        "id": "RFpmCPT5n62x"
      },
      "execution_count": null,
      "outputs": []
    }
  ]
}